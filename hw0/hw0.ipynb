{
 "metadata": {
  "language_info": {
   "codemirror_mode": {
    "name": "ipython",
    "version": 3
   },
   "file_extension": ".py",
   "mimetype": "text/x-python",
   "name": "python",
   "nbconvert_exporter": "python",
   "pygments_lexer": "ipython3",
   "version": "3.8.1"
  },
  "orig_nbformat": 4,
  "kernelspec": {
   "name": "python3",
   "display_name": "Python 3.8.1 64-bit ('.venv': venv)"
  },
  "interpreter": {
   "hash": "a057cf4257e065412f7c155aa777de779e6c8d6e800dfde50f796b9b14698ffb"
  }
 },
 "nbformat": 4,
 "nbformat_minor": 2,
 "cells": [
  {
   "cell_type": "code",
   "execution_count": 2,
   "metadata": {},
   "outputs": [],
   "source": [
    "import snap"
   ]
  },
  {
   "cell_type": "code",
   "execution_count": 1,
   "metadata": {},
   "outputs": [
    {
     "output_type": "error",
     "ename": "NameError",
     "evalue": "name 'snap' is not defined",
     "traceback": [
      "\u001b[0;31m---------------------------------------------------------------------------\u001b[0m",
      "\u001b[0;31mNameError\u001b[0m                                 Traceback (most recent call last)",
      "\u001b[0;32m<ipython-input-1-c04ee525db86>\u001b[0m in \u001b[0;36m<module>\u001b[0;34m\u001b[0m\n\u001b[1;32m      1\u001b[0m \u001b[0mfname\u001b[0m \u001b[0;34m=\u001b[0m \u001b[0;34m\"vsmall.txt\"\u001b[0m\u001b[0;34m\u001b[0m\u001b[0;34m\u001b[0m\u001b[0m\n\u001b[1;32m      2\u001b[0m \u001b[0;31m# fname = \"wiki-Vote.txt\"\u001b[0m\u001b[0;34m\u001b[0m\u001b[0;34m\u001b[0m\u001b[0;34m\u001b[0m\u001b[0m\n\u001b[0;32m----> 3\u001b[0;31m \u001b[0mg\u001b[0m \u001b[0;34m=\u001b[0m \u001b[0msnap\u001b[0m\u001b[0;34m.\u001b[0m\u001b[0mLoadEdgeList\u001b[0m\u001b[0;34m(\u001b[0m\u001b[0msnap\u001b[0m\u001b[0;34m.\u001b[0m\u001b[0mTNGraph\u001b[0m\u001b[0;34m,\u001b[0m \u001b[0mfname\u001b[0m\u001b[0;34m,\u001b[0m \u001b[0;36m0\u001b[0m\u001b[0;34m,\u001b[0m \u001b[0;36m1\u001b[0m\u001b[0;34m)\u001b[0m\u001b[0;34m\u001b[0m\u001b[0;34m\u001b[0m\u001b[0m\n\u001b[0m\u001b[1;32m      4\u001b[0m \u001b[0;31m# g = snap.LoadEdgeList(snap.PNGraph, \"vsmall.txt\", 0, 1)\u001b[0m\u001b[0;34m\u001b[0m\u001b[0;34m\u001b[0m\u001b[0;34m\u001b[0m\u001b[0m\n\u001b[1;32m      5\u001b[0m \u001b[0;34m\u001b[0m\u001b[0m\n",
      "\u001b[0;31mNameError\u001b[0m: name 'snap' is not defined"
     ]
    }
   ],
   "source": [
    "fname = \"vsmall.txt\"\n",
    "# fname = \"wiki-Vote.txt\"\n",
    "g = snap.LoadEdgeList(snap.TNGraph, fname, 0, 1)\n",
    "# g = snap.LoadEdgeList(snap.PNGraph, \"vsmall.txt\", 0, 1)\n",
    "\n",
    "# snap.PrintInfo(g)\n",
    "snap.PrintInfo(g, \"QA Stats\", \"qa-info.txt\", False )\n",
    "## how to get this info in a variable not a file?\n",
    "\n",
    "labels = {}\n",
    "\n",
    "# nodes = list(g.Nodes() )\n",
    "for idx, node in enumerate(g.Nodes()):\n",
    "    labels[idx] = node.GetId()\n",
    "# print('nodes:', len(nodes))\n",
    "# n0 = nodes[0]\n",
    "\n",
    "# print('n0', n0.GetId() )\n",
    "# labels = [ {n: n} for n in nodes]\n",
    "print('labels', labels)\n",
    "\n",
    "g.SaveGViz(\"vsmall2.dot\", \"VSmall\", labels)\n",
    "\n",
    "print('done')\n"
   ]
  },
  {
   "cell_type": "code",
   "execution_count": null,
   "metadata": {
    "tags": []
   },
   "outputs": [],
   "source": [
    "# 1. The number of nodes in the network. (Gsmall has 3 nodes.)\n",
    "# how to find length of a generator? \n",
    "# is there another snap method for node count?\n",
    "print('nodes:', len(list(g.Nodes())) )\n",
    "\n",
    "# 2. The number of nodes with a self-edge (self-loop), i.e., the number of nodes a ∈ V where (a, a) ∈ E. (Gsmall has 1 self-edge.)\n",
    "# https://snap.stanford.edu/snappy/doc/reference/CntSelfEdges.html\n",
    "c = g.CntSelfEdges()\n",
    "print('self edges:', c)\n",
    "\n",
    "# 3. The number of directed edges in the network, i.e., the number of ordered pairs (a, b) ∈ E for which a ̸= b. (Gsmall has 3 directed edges.)\n",
    "print('directed edges', g.CntUniqDirEdges() )\n",
    "\n",
    "# 4. The number of undirected edges in the network, i.e., the number of unique unordered pairs (a,b), a ̸= b, for which (a,b) ∈ E or (b,a) ∈ E (or both). If both (a,b) and (b,a) are edges, this counts a single undirected edge. (Gsmall has 2 undirected edges.)\n",
    "print('UNdirected edges', g.CntUniqUndirEdges() )\n",
    "\n",
    "# 5. The number of reciprocated edges in the network, i.e., the number of unique unordered pairs of nodes (a, b), a ̸= b, for which (a, b) ∈ E and (b, a) ∈ E. (Gsmall has 1 reciprocated edge.)\n",
    "\n",
    "\n",
    "\n",
    "# 6. The number of nodes of zero out-degree. (Gsmall has 1 node with zero out-degree.)\n",
    "# 7. The number of nodes of zero in-degree. (Gsmall has 0 nodes with zero in-degree.)\n",
    "# 8. The number of nodes with more than 10 outgoing edges (out-degree > 10).\n",
    "# 9. The number of nodes with fewer than 10 incoming edges (in-degree < 10).\n"
   ]
  },
  {
   "cell_type": "code",
   "execution_count": 1,
   "metadata": {},
   "outputs": [
    {
     "output_type": "error",
     "ename": "NameError",
     "evalue": "name 'g' is not defined",
     "traceback": [
      "\u001b[0;31m---------------------------------------------------------------------------\u001b[0m",
      "\u001b[0;31mNameError\u001b[0m                                 Traceback (most recent call last)",
      "\u001b[0;32m<ipython-input-1-2eddd6971e43>\u001b[0m in \u001b[0;36m<module>\u001b[0;34m\u001b[0m\n\u001b[0;32m----> 1\u001b[0;31m \u001b[0mn\u001b[0m \u001b[0;34m=\u001b[0m \u001b[0mg\u001b[0m\u001b[0;34m.\u001b[0m\u001b[0mNodes\u001b[0m\u001b[0;34m(\u001b[0m\u001b[0;34m)\u001b[0m\u001b[0;34m\u001b[0m\u001b[0;34m\u001b[0m\u001b[0m\n\u001b[0m\u001b[1;32m      2\u001b[0m \u001b[0mn1\u001b[0m \u001b[0;34m=\u001b[0m \u001b[0mnext\u001b[0m\u001b[0;34m(\u001b[0m\u001b[0mn\u001b[0m\u001b[0;34m)\u001b[0m\u001b[0;34m\u001b[0m\u001b[0;34m\u001b[0m\u001b[0m\n\u001b[1;32m      3\u001b[0m \u001b[0mprint\u001b[0m\u001b[0;34m(\u001b[0m\u001b[0;34m)\u001b[0m\u001b[0;34m\u001b[0m\u001b[0;34m\u001b[0m\u001b[0m\n\u001b[1;32m      4\u001b[0m \u001b[0mprint\u001b[0m\u001b[0;34m(\u001b[0m\u001b[0;34m'in'\u001b[0m\u001b[0;34m,\u001b[0m \u001b[0mlist\u001b[0m\u001b[0;34m(\u001b[0m\u001b[0mn1\u001b[0m\u001b[0;34m.\u001b[0m\u001b[0mGetInEdges\u001b[0m\u001b[0;34m(\u001b[0m\u001b[0;34m)\u001b[0m\u001b[0;34m)\u001b[0m \u001b[0;34m)\u001b[0m\u001b[0;34m\u001b[0m\u001b[0;34m\u001b[0m\u001b[0m\n\u001b[1;32m      5\u001b[0m \u001b[0;34m\u001b[0m\u001b[0m\n",
      "\u001b[0;31mNameError\u001b[0m: name 'g' is not defined"
     ]
    }
   ],
   "source": [
    "n = g.Nodes()\n",
    "n1 = next(n)\n",
    "print()\n",
    "print('in', list(n1.GetInEdges()) )\n",
    "\n",
    "dir(n1)\n",
    "\n",
    "print('in', n1.GetInDeg() )\n",
    "print('in', next(n1.GetInEdges()) )\n",
    "\n",
    "\n"
   ]
  }
 ]
}