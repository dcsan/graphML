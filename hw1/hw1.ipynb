{
 "metadata": {
  "language_info": {
   "codemirror_mode": {
    "name": "ipython",
    "version": 3
   },
   "file_extension": ".py",
   "mimetype": "text/x-python",
   "name": "python",
   "nbconvert_exporter": "python",
   "pygments_lexer": "ipython3",
   "version": "3.8.1"
  },
  "orig_nbformat": 2,
  "kernelspec": {
   "name": "python3",
   "display_name": "Python 3.8.1 64-bit ('.venv': venv)"
  },
  "interpreter": {
   "hash": "7ca0f1f60f6efb5944e220d22e73a3aed73043df00c972346ed3eab801b8cc62"
  }
 },
 "nbformat": 4,
 "nbformat_minor": 2,
 "cells": [
  {
   "cell_type": "code",
   "execution_count": null,
   "metadata": {},
   "outputs": [],
   "source": [
    "import snap\n",
    "import numpy as np\n",
    "import matplotlib.pyplot as plt\n"
   ]
  },
  {
   "cell_type": "code",
   "execution_count": null,
   "metadata": {},
   "outputs": [],
   "source": []
  },
  {
   "cell_type": "code",
   "execution_count": null,
   "metadata": {},
   "outputs": [],
   "source": [
    "g = snap.TNGraph.New()\n",
    "\n",
    "g.AddNode(1)\n",
    "g.AddNode(2)\n",
    "g.AddNode(3)\n",
    "g.AddNode(4)\n",
    "g.AddEdge(1,2)\n",
    "g.AddEdge(2,3)\n",
    "g.AddEdge(3,4)\n",
    "g.AddEdge(1,4)\n",
    "g.AddEdge(1,3)\n",
    "g.AddEdge(4,1)\n"
   ]
  },
  {
   "cell_type": "code",
   "execution_count": 31,
   "metadata": {},
   "outputs": [],
   "source": [
    "labels = {}\n",
    "for NI in g.Nodes():\n",
    "        labels[NI.GetId()] = str(NI.GetId())\n",
    "\n",
    "NIdColorH = { 0 : \"green\", 1 : \"red\", 2 : \"purple\", 3 : \"blue\", 4 : \"yellow\" }\n",
    "\n",
    "g.DrawGVizColor(snap.gvlNeato, \"renders/graph_undirected.png\", \"GUN\", True, NIdColorH)\n",
    "# g.DrawGVizColor(snap.gvlTwopi, \"gvlTwopi.png\", \"Color\", True, NIdColorH)\n"
   ]
  }
 ]
}